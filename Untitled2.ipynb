{
  "nbformat": 4,
  "nbformat_minor": 0,
  "metadata": {
    "colab": {
      "provenance": [],
      "authorship_tag": "ABX9TyOIcrAzKz0JDm9V2mTf5ED+",
      "include_colab_link": true
    },
    "kernelspec": {
      "name": "python3",
      "display_name": "Python 3"
    },
    "language_info": {
      "name": "python"
    }
  },
  "cells": [
    {
      "cell_type": "markdown",
      "metadata": {
        "id": "view-in-github",
        "colab_type": "text"
      },
      "source": [
        "<a href=\"https://colab.research.google.com/github/nicolasgomes061220-sudo/NicolasGomes2/blob/main/Untitled2.ipynb\" target=\"_parent\"><img src=\"https://colab.research.google.com/assets/colab-badge.svg\" alt=\"Open In Colab\"/></a>"
      ]
    },
    {
      "cell_type": "code",
      "source": [
        "print(\"Alunos - PLP Unifavip 2022.2\")"
      ],
      "metadata": {
        "id": "3yoc-LKJ12pr",
        "colab": {
          "base_uri": "https://localhost:8080/"
        },
        "outputId": "5c25d064-e61a-4710-c6ea-855a7efafeb2"
      },
      "execution_count": 1,
      "outputs": [
        {
          "output_type": "stream",
          "name": "stdout",
          "text": [
            "Alunos - PLP Unifavip 2022.2\n"
          ]
        }
      ]
    },
    {
      "cell_type": "code",
      "source": [
        "numero = input(\"Digite um número: \")\n",
        "print(\"O número informado foi\", numero)"
      ],
      "metadata": {
        "colab": {
          "base_uri": "https://localhost:8080/"
        },
        "id": "D4qWn2OrJ66t",
        "outputId": "00340e9c-2223-4f30-8873-823abedbeed2"
      },
      "execution_count": 2,
      "outputs": [
        {
          "output_type": "stream",
          "name": "stdout",
          "text": [
            "Digite um número: 2\n",
            "O número informado foi 2\n"
          ]
        }
      ]
    },
    {
      "cell_type": "code",
      "source": [
        "numero1 = float(input(\"Digite o primeiro número: \"))\n",
        "numero2 = float(input(\"Digite o segundo número: \"))\n",
        "soma = numero1 + numero2\n",
        "print(\"A soma dos dois números é:\", soma)"
      ],
      "metadata": {
        "id": "RWQ-3uv9KG-d"
      },
      "execution_count": null,
      "outputs": []
    },
    {
      "cell_type": "code",
      "source": [
        "\n",
        "nota1 = float(input(\"Digite a primeira nota: \"))\n",
        "nota2 = float(input(\"Digite a segunda nota: \"))\n",
        "nota3 = float(input(\"Digite a terceira nota: \"))\n",
        "nota4 = float(input(\"Digite a quarta nota: \"))\n",
        "media = (nota1 + nota2 + nota3 + nota4) / 4\n",
        "print(\"A média das notas é:\", media)"
      ],
      "metadata": {
        "id": "A_wITqA-KR1i"
      },
      "execution_count": null,
      "outputs": []
    },
    {
      "cell_type": "code",
      "source": [
        "metros = float(input(\"Digite o valor em metros: \"))\n",
        "centimetros = metros * 100\n",
        "print(f\"{metros} metros equivalem a {centimetros} centímetros.\")\n",
        "\n",
        "metros = float(input(\"Digite o valor em metros: \"))\n",
        "centimetros = metros * 100\n",
        "print(f\"{metros} metros equivalem a {centimetros} centímetros.\")\n",
        "\n",
        "raio = float(input(\"Digite o raio do círculo: \"))\n",
        "area = math.pi * (raio ** 2)\n",
        "print(f\"A área do círculo com raio {raio} é {area:.2f}\")\n"
      ],
      "metadata": {
        "id": "zloeyB2MKXeN"
      },
      "execution_count": null,
      "outputs": []
    },
    {
      "cell_type": "code",
      "source": [
        "lado = float(input(\"Digite o valor do lado do quadrado: \"))\n",
        "area = lado ** 2\n",
        "dobro_da_area = 2 * area\n",
        "print(f\"A área do quadrado é {area:.2f}\")\n",
        "print(f\"O dobro da área é {dobro_da_area:.2f}\")"
      ],
      "metadata": {
        "id": "mmXNoix1KcrZ"
      },
      "execution_count": null,
      "outputs": []
    },
    {
      "cell_type": "code",
      "source": [
        "valor_hora = float(input(\"Quanto você ganha por hora? R$ \"))\n",
        "horas_trabalhadas = float(input(\"Quantas horas você trabalhou no mês? \"))\n",
        "salario = valor_hora * horas_trabalhadas\n",
        "print(f\"Seu salário no mês é: R$ {salario:.2f}\")\n"
      ],
      "metadata": {
        "id": "IMCt5jYOKep8"
      },
      "execution_count": null,
      "outputs": []
    },
    {
      "cell_type": "code",
      "source": [
        "fahrenheit = float(input(\"Digite a temperatura em Fahrenheit: \"))\n",
        "celsius = (fahrenheit - 32) * 5 / 9\n",
        "print(f\"A temperatura em Celsius é: {celsius:.2f}°C\")"
      ],
      "metadata": {
        "id": "8A5kpA58Kgdb"
      },
      "execution_count": null,
      "outputs": []
    },
    {
      "cell_type": "code",
      "source": [
        "num1 = int(input(\"Digite o primeiro número inteiro: \"))\n",
        "num2 = int(input(\"Digite o segundo número inteiro: \"))\n",
        "num3 = float(input(\"Digite um número real: \"))\n",
        "resultado1 = (2 * num1) * (num2 / 2)\n",
        "resultado2 = (3 * num1) + num3\n",
        "resultado3 = num3 ** 3\n",
        "print(f\"\\nResultados:\")\n",
        "print(f\"1. O produto do dobro do primeiro com metade do segundo: {resultado1}\")\n",
        "print(f\"2. A soma do triplo do primeiro com o número real: {resultado2}\")\n",
        "print(f\"3. O número real elevado ao cubo: {resultado3}\")"
      ],
      "metadata": {
        "id": "X7thHebvKhpK"
      },
      "execution_count": null,
      "outputs": []
    },
    {
      "cell_type": "code",
      "source": [
        "altura = float(input(\"Digite sua altura em metros: \"))\n",
        "peso_ideal = (72.7 * altura) - 58\n",
        "print(f\"Seu peso ideal é: {peso_ideal:.2f} kg\")\n",
        "altura = float(input(\"Digite sua altura em metros: \"))\n",
        "genero = input(\"Digite seu gênero (H para homem / M para mulher): \").strip().upper()\n",
        "if genero == 'H':\n",
        "    peso_ideal = (72.7 * altura) - 58\n",
        "elif genero == 'M':\n",
        "    peso_ideal = (62.1 * altura) - 44.7\n",
        "else:\n",
        "    peso_ideal = None\n",
        "    print(\"Gênero inválido! Por favor, digite H para homem ou M para mulher.\")\n",
        "if peso_ideal is not None:\n",
        "    print(f\"Seu peso ideal é: {peso_ideal:.2f} kg\")\n"
      ],
      "metadata": {
        "id": "w_SCZaZqKkM-"
      },
      "execution_count": null,
      "outputs": []
    },
    {
      "cell_type": "code",
      "source": [
        "peso = float(input(\"Digite o peso dos peixes em quilos: \"))\n",
        "limite = 50\n",
        "excesso = 0\n",
        "multa = 0\n",
        "if peso > limite:\n",
        "    excesso = peso - limite\n",
        "    multa = excesso * 4\n",
        "print(f\"Peso total dos peixes: {peso} kg\")\n",
        "if excesso > 0:\n",
        "    print(f\"Excesso de peso: {excesso:.2f} kg\")\n",
        "    print(f\"Multa a pagar: R$ {multa:.2f}\")\n",
        "else:\n",
        "    print(\"Não houve excesso de peso. Nenhuma multa será aplicada.\")"
      ],
      "metadata": {
        "id": "K8UZGCHaKuXj"
      },
      "execution_count": null,
      "outputs": []
    },
    {
      "cell_type": "code",
      "source": [
        "valor_hora = float(input(\"Quanto você ganha por hora? R$ \"))\n",
        "horas_trabalhadas = float(input(\"Quantas horas você trabalhou no mês? \"))\n",
        "salario_bruto = valor_hora * horas_trabalhadas\n",
        "desconto_ir = salario_bruto * 0.11\n",
        "desconto_inss = salario_bruto * 0.08\n",
        "desconto_sindicato = salario_bruto * 0.05\n",
        "total_descontos = desconto_ir + desconto_inss + desconto_sindicato\n",
        "salario_liquido = salario_bruto - total_descontos\n",
        "print(f\"\\nSalário Bruto: R$ {salario_bruto:.2f}\")\n",
        "print(f\"Desconto INSS (8%): R$ {desconto_inss:.2f}\")\n",
        "print(f\"Desconto Sindicato (5%): R$ {desconto_sindicato:.2f}\")\n",
        "print(f\"Desconto Imposto de Renda (11%): R$ {desconto_ir:.2f}\")\n",
        "print(f\"Total de descontos: R$ {total_descontos:.2f}\")\n",
        "print(f\"Salário Líquido: R$ {salario_liquido:.2f}\")"
      ],
      "metadata": {
        "id": "_6hjH51KKxIJ"
      },
      "execution_count": null,
      "outputs": []
    },
    {
      "cell_type": "code",
      "source": [
        "import math\n",
        "area = float(input(\"Digite o tamanho da área a ser pintada (em m²): \"))\n",
        "litros_necessarios = area / 3\n",
        "latas = math.ceil(litros_necessarios / 18)\n",
        "preco = latas * 80\n",
        "print(f\"Quantidade de latas necessárias: {latas}\")\n",
        "print(f\"Preço total: R$ {preco:.2f}\")\n"
      ],
      "metadata": {
        "id": "LHApgNvnKzMy"
      },
      "execution_count": null,
      "outputs": []
    },
    {
      "cell_type": "code",
      "source": [
        "import math\n",
        "\n",
        "area = float(input(\"Digite o tamanho da área a ser pintada (em m²): \"))\n",
        "area_com_folga = area * 1.1\n",
        "litros_necessarios = area_com_folga / 6\n",
        "latas = math.ceil(litros_necessarios / 18)\n",
        "preco_latas = latas * 80\n",
        "galoes = math.ceil(litros_necessarios / 3.6)\n",
        "preco_galoes = galoes * 25\n",
        "latas_mistura = int(litros_necessarios // 18)\n",
        "galoes_mistura = math.ceil((litros_necessarios - (latas_mistura * 18)) / 3.6)\n",
        "preco_mistura = (latas_mistura * 80) + (galoes_mistura * 25)\n",
        "print(f\"\\nOpção 1 - Apenas latas de 18 litros:\")\n",
        "print(f\"Quantidade de latas: {latas}\")\n",
        "print(f\"Preço total: R$ {preco_latas:.2f}\")\n",
        "print(f\"\\nOpção 2 - Apenas galões de 3,6 litros:\")\n",
        "print(f\"Quantidade de galões: {galoes}\")\n",
        "print(f\"Preço total: R$ {preco_galoes:.2f}\")\n",
        "print(f\"\\nOpção 3 - Mistura de latas e galões:\")\n",
        "print(f\"Quantidade de latas: {latas_mistura}\")\n",
        "print(f\"Quantidade de galões: {galoes_mistura}\")\n",
        "print(f\"Preço total: R$ {preco_mistura:.2f}\")\n"
      ],
      "metadata": {
        "id": "GP65bzBdK8li"
      },
      "execution_count": null,
      "outputs": []
    },
    {
      "cell_type": "code",
      "source": [
        "tamanho_mb = float(input(\"Digite o tamanho do arquivo para download (em MB): \"))\n",
        "velocidade_mbps = float(input(\"Digite a velocidade da internet (em Mbps): \"))\n",
        "tamanho_megabits = tamanho_mb * 8\n",
        "tempo_segundos = tamanho_megabits / velocidade_mbps\n",
        "tempo_minutos = tempo_segundos / 60\n",
        "print(f\"Tempo aproximado de download: {tempo_minutos:.2f} minutos\")\n"
      ],
      "metadata": {
        "id": "bBkVS40JK9k9"
      },
      "execution_count": null,
      "outputs": []
    },
    {
      "cell_type": "code",
      "source": [
        "numeros = []\n",
        "print(\"Digite 5 números inteiros:\")\n",
        "for i in range(5):\n",
        "    num = int(input(f\"Número {i+1}: \"))\n",
        "    numeros.append(num)\n",
        "busca = int(input(\"Digite um número para pesquisar na lista: \"))\n",
        "if busca in numeros:\n",
        "    posicao = numeros.index(busca)\n",
        "    print(f\"O número {busca} foi encontrado na posição {posicao}.\")\n",
        "else:\n",
        "    print(f\"O número {busca} não está na lista.\")\n",
        "\n"
      ],
      "metadata": {
        "id": "I_h63A2_K_ZH"
      },
      "execution_count": null,
      "outputs": []
    },
    {
      "cell_type": "code",
      "source": [
        "\n",
        "tamanho_arquivo = float(input(\"Informe o tamanho do arquivo (em MB): \"))\n",
        "velocidade_link = float(input(\"Informe a velocidade da internet (em Mbps): \"))\n",
        "velocidade_MBps = velocidade_link / 8\n",
        "tempo_segundos = tamanho_arquivo / velocidade_MBps\n",
        "tempo_minutos = tempo_segundos / 60\n",
        "print(f\"Tempo aproximado de download: {tempo_minutos:.2f} minutos\")\n"
      ],
      "metadata": {
        "id": "f0ZjcPzXLioH"
      },
      "execution_count": null,
      "outputs": []
    },
    {
      "cell_type": "code",
      "source": [
        "numeros = [3, 7, 12, 45, 22, 8, 19]\n",
        "numero = int(input(\"Digite um número para verificar: \"))\n",
        "\n",
        "if numero in numeros:\n",
        "    posicao = numeros.index(numero)\n",
        "    print(f\"O número {numero} está na posição {posicao} da lista.\")\n",
        "else:\n",
        "    print(\"Número não encontrado na lista.\")\n"
      ],
      "metadata": {
        "id": "SyPyytS0LmVw"
      },
      "execution_count": null,
      "outputs": []
    },
    {
      "cell_type": "code",
      "source": [
        "gabarito = ('A', 'B', 'C', 'D', 'E', 'A', 'B', 'C', 'D', 'E',\n",
        "            'A', 'B', 'C', 'D', 'E', 'A', 'B', 'C', 'D', 'E')\n",
        "\n",
        "while True:\n",
        "    print(\"\\n--- Nova correção de prova ---\")\n",
        "    respostas = []\n",
        "\n",
        "    for i in range(20):\n",
        "        resposta = input(f\"Resposta da questão {i+1}: \").upper()\n",
        "        while resposta not in ['A', 'B', 'C', 'D', 'E']:\n",
        "            resposta = input(\"Alternativa inválida. Digite A, B, C, D ou E: \").upper()\n",
        "        respostas.append(resposta)\n",
        "\n",
        "    acertos = sum(1 for i in range(20) if respostas[i] == gabarito[i])\n",
        "    percentual = acertos / 20\n",
        "\n",
        "    print(f\"\\nAcertos: {acertos} de 20\")\n",
        "    if percentual >= 0.6:\n",
        "        print(\"Resultado: Classificado\")\n",
        "    else:\n",
        "        print(\"Resultado: Desclassificado\")\n",
        "\n",
        "    continuar = input(\"Deseja corrigir outra prova? (S/N): \").upper()\n",
        "    if continuar != 'S':\n",
        "        break\n"
      ],
      "metadata": {
        "id": "By_BrAv_LpF8"
      },
      "execution_count": null,
      "outputs": []
    },
    {
      "cell_type": "code",
      "source": [
        "cidades = []\n",
        "\n",
        "while len(cidades) < 6:\n",
        "    nome = input(f\"Digite o nome da cidade {len(cidades)+1}: \")\n",
        "    if nome in cidades:\n",
        "        print(\"Cidade já cadastrada! Digite outra.\")\n",
        "    else:\n",
        "        cidades.append(nome)\n",
        "\n",
        "\n",
        "for i in range(len(cidades)):\n",
        "    resposta = input(f\"Deseja adicionar algo ao nome da cidade '{cidades[i]}'? (S/N): \").upper()\n",
        "    if resposta == 'S':\n",
        "        complemento = input(\"Digite o complemento: \")\n",
        "        cidades[i] += \" \" + complemento\n",
        "\n",
        "\n",
        "mais_extensa = max(cidades, key=len)\n",
        "print(f\"\\nCidade com o nome mais extenso: {mais_extensa} ({len(mais_extensa)} caracteres)\")\n"
      ],
      "metadata": {
        "id": "TTZlSaYgLrOR"
      },
      "execution_count": null,
      "outputs": []
    },
    {
      "cell_type": "code",
      "source": [
        "letra = input(\"Digite uma letra: \").lower()\n",
        "\n",
        "if len(letra) != 1 or not letra.isalpha():\n",
        "    print(\"Entrada inválida.\")\n",
        "elif letra in \"aeiou\":\n",
        "    print(\"É uma vogal.\")\n",
        "else:\n",
        "    print(\"É uma consoante.\")\n"
      ],
      "metadata": {
        "id": "3PiDPcEqLsdW"
      },
      "execution_count": null,
      "outputs": []
    },
    {
      "cell_type": "code",
      "source": [
        "nota1 = float(input(\"Digite a primeira nota: \"))\n",
        "nota2 = float(input(\"Digite a segunda nota: \"))\n",
        "media = (nota1 + nota2) / 2\n",
        "\n",
        "if media == 10:\n",
        "    print(\"Aprovado com Distinção\")\n",
        "elif media >= 7:\n",
        "    print(\"Aprovado\")\n",
        "else:\n",
        "    print(\"Reprovado\")\n"
      ],
      "metadata": {
        "id": "grKvMqF_LuVg"
      },
      "execution_count": null,
      "outputs": []
    },
    {
      "cell_type": "code",
      "source": [
        "palavras = [input(f\"Digite a palavra {i+1}: \") for i in range(3)]\n",
        "maior = max(palavras, key=len)\n",
        "print(f\"A maior palavra é '{maior}' com {len(maior)} caracteres.\")\n"
      ],
      "metadata": {
        "id": "tiiAsoCgLudR"
      },
      "execution_count": null,
      "outputs": []
    },
    {
      "cell_type": "code",
      "source": [
        "numeros = [float(input(f\"Digite o número {i+1}: \")) for i in range(3)]\n",
        "print(f\"Maior número: {max(numeros)}\")\n",
        "print(f\"Menor número: {min(numeros)}\")\n"
      ],
      "metadata": {
        "id": "72nLrN47Lune"
      },
      "execution_count": null,
      "outputs": []
    },
    {
      "cell_type": "code",
      "source": [
        "precos = [float(input(f\"Digite o preço do produto {i+1}: \")) for i in range(3)]\n",
        "mais_barato = min(precos)\n",
        "indice = precos.index(mais_barato)\n",
        "print(f\"Compre o produto {indice+1}, que custa R$ {mais_barato:.2f}\")\n"
      ],
      "metadata": {
        "id": "sZW3aLONLyY_"
      },
      "execution_count": null,
      "outputs": []
    },
    {
      "cell_type": "code",
      "source": [
        "numeros = [float(input(f\"Digite o número {i+1}: \")) for i in range(3)]\n",
        "numeros.sort(reverse=True)\n",
        "print(\"Números em ordem decrescente:\", numeros)\n"
      ],
      "metadata": {
        "id": "l37wUSPqL0V1"
      },
      "execution_count": null,
      "outputs": []
    },
    {
      "cell_type": "code",
      "source": [
        "turno = input(\"Digite seu turno (M/V/N): \").upper()\n",
        "\n",
        "if turno == 'M':\n",
        "    print(\"Bom Dia!\")\n",
        "elif turno == 'V':\n",
        "    print(\"Boa Tarde!\")\n",
        "elif turno == 'N':\n",
        "    print(\"Boa Noite!\")\n",
        "else:\n",
        "    print(\"Valor Inválido!\")\n"
      ],
      "metadata": {
        "id": "zNo8ryy-L0dE"
      },
      "execution_count": null,
      "outputs": []
    },
    {
      "cell_type": "code",
      "source": [
        "salario = float(input(\"Informe seu salário atual: R$ \"))\n",
        "\n",
        "if salario <= 280:\n",
        "    percentual = 20\n",
        "elif salario <= 700:\n",
        "    percentual = 15\n",
        "elif salario <= 1500:\n",
        "    percentual = 10\n",
        "else:\n",
        "    percentual = 5\n",
        "\n",
        "aumento = salario * (percentual / 100)\n",
        "novo_salario = salario + aumento\n",
        "\n",
        "print(f\"Salário antes: R$ {salario:.2f}\")\n",
        "print(f\"Percentual de aumento: {percentual}%\")\n",
        "print(f\"Valor do aumento: R$ {aumento:.2f}\")\n",
        "print(f\"Novo salário: R$ {novo_salario:.2f}\")\n"
      ],
      "metadata": {
        "id": "KUCRYmGGL0jG"
      },
      "execution_count": null,
      "outputs": []
    },
    {
      "cell_type": "code",
      "source": [
        "valor_hora = float(input(\"Informe o valor da sua hora: R$ \"))\n",
        "horas_trabalhadas = float(input(\"Informe o número de horas trabalhadas no mês: \"))\n",
        "salario_bruto = valor_hora * horas_trabalhadas\n",
        "\n",
        "\n",
        "if salario_bruto <= 900:\n",
        "    ir = 0\n",
        "elif salario_bruto <= 1500:\n",
        "    ir = salario_bruto * 0.05\n",
        "elif salario_bruto <= 2500:\n",
        "    ir = salario_bruto * 0.10\n",
        "else:\n",
        "    ir = salario_bruto * 0.20\n",
        "\n",
        "inss = salario_bruto * 0.10\n",
        "fgts = salario_bruto * 0.11\n",
        "sindicato = salario_bruto * 0.03\n",
        "total_descontos = ir + inss + sindicato\n",
        "salario_liquido = salario_bruto - total_descontos\n",
        "\n",
        "print(f\"\\nSalário Bruto: R$ {salario_bruto:.2f}\")\n",
        "print(f\"(-) IR: R$ {ir:.2f}\")\n",
        "print(f\"(-) INSS: R$ {inss:.2f}\")\n",
        "print(f\"(-) Sindicato: R$ {sindicato:.2f}\")\n",
        "print(f\"FGTS: R$ {fgts:.2f}\")\n",
        "print(f\"Total de descontos: R$ {total_descontos:.2f}\")\n",
        "print(f\"Salário Líquido: R$ {salario_liquido:.2f}\")\n"
      ],
      "metadata": {
        "id": "AFPEi_luL0nm"
      },
      "execution_count": null,
      "outputs": []
    },
    {
      "cell_type": "code",
      "source": [
        "perguntas = [\n",
        "    \"Telefonou para a vítima?\",\n",
        "    \"Esteve no local do crime?\",\n",
        "    \"Mora perto da vítima?\",\n",
        "    \"Devia para a vítima?\",\n",
        "    \"Já trabalhou com a vítima?\"\n",
        "]\n",
        "\n",
        "respostas = 0\n",
        "for pergunta in perguntas:\n",
        "    resp = input(pergunta + \" (S/N): \").upper()\n",
        "    if resp == \"S\":\n",
        "        respostas += 1\n",
        "\n",
        "if respostas == 2:\n",
        "    classificacao = \"Suspeita\"\n",
        "elif 3 <= respostas <= 4:\n",
        "    classificacao = \"Cúmplice\"\n",
        "elif respostas == 5:\n",
        "    classificacao = \"Assassino\"\n",
        "else:\n",
        "    classificacao = \"Inocente\"\n",
        "\n",
        "print(f\"\\nClassificação: {classificacao}\")\n"
      ],
      "metadata": {
        "id": "ABKLoEMxMDmW"
      },
      "execution_count": null,
      "outputs": []
    },
    {
      "cell_type": "code",
      "source": [
        "alunos = []\n",
        "\n",
        "for i in range(13):\n",
        "    nome = input(f\"Nome do aluno {i+1}: \")\n",
        "    matricula = input(\"Matrícula: \")\n",
        "    nota1 = float(input(\"Nota 1: \"))\n",
        "    nota2 = float(input(\"Nota 2: \"))\n",
        "    media = (nota1 + nota2) / 2\n",
        "    alunos.append((matricula, nome, media))\n",
        "\n",
        "print(\"\\n--- Resultados ---\")\n",
        "for aluno in alunos:\n",
        "    print(f\"Matrícula: {aluno[0]}, Nome: {aluno[1]}, Média: {aluno[2]:.2f}\")\n"
      ],
      "metadata": {
        "id": "KkHDY_n4MDsy"
      },
      "execution_count": null,
      "outputs": []
    },
    {
      "cell_type": "code",
      "source": [
        "pessoas = []\n",
        "\n",
        "while True:\n",
        "    nome = input(\"Nome: \")\n",
        "    altura = float(input(\"Altura (em metros): \"))\n",
        "    peso = float(input(\"Peso (em kg): \"))\n",
        "    cpf = input(\"CPF: \")\n",
        "    sexo = input(\"Sexo (M/F): \").upper()\n",
        "\n",
        "    pessoas.append({\n",
        "        \"nome\": nome,\n",
        "        \"altura\": altura,\n",
        "        \"peso\": peso,\n",
        "        \"cpf\": cpf,\n",
        "        \"sexo\": sexo\n",
        "    })\n",
        "\n",
        "    continuar = input(\"Deseja cadastrar outra pessoa? (S/N): \").upper()\n",
        "    if continuar != 'S':\n",
        "        break\n",
        "\n",
        "cpf_busca = input(\"\\nDigite o CPF para buscar: \")\n",
        "encontrado = False\n",
        "\n",
        "for pessoa in pessoas:\n",
        "    if pessoa['cpf'] == cpf_busca:\n",
        "        imc = pessoa['peso'] / (pessoa['altura'] ** 2)\n",
        "        print(f\"Nome: {pessoa['nome']}, IMC: {imc:.2f}\")\n",
        "        encontrado = True\n",
        "        break\n",
        "\n",
        "if not encontrado:\n",
        "    print(\"Pessoa não encontrada.\")\n"
      ],
      "metadata": {
        "id": "x1Aqt5z2MGQF"
      },
      "execution_count": null,
      "outputs": []
    },
    {
      "cell_type": "code",
      "source": [],
      "metadata": {
        "id": "Yv3S-2raMHHX"
      },
      "execution_count": null,
      "outputs": []
    }
  ]
}